{
 "cells": [
  {
   "cell_type": "code",
   "execution_count": 1,
   "id": "709e1ed0",
   "metadata": {},
   "outputs": [],
   "source": [
    "import numpy as np\n",
    "import numpy.ma as ma\n",
    "import pandas as pd\n",
    "import tensorflow as tf\n",
    "# from tensorflow import keras\n",
    "from numpy import genfromtxt\n",
    "import joblib\n",
    "import requests\n",
    "import json"
   ]
  },
  {
   "cell_type": "markdown",
   "id": "c56eebae",
   "metadata": {},
   "source": [
    "load data"
   ]
  },
  {
   "cell_type": "code",
   "execution_count": 2,
   "id": "45eeb179",
   "metadata": {},
   "outputs": [],
   "source": [
    "user_vecs = genfromtxt('./data/user_vecs.csv', delimiter=',')\n",
    "item_vecs = genfromtxt('./data/item_vecs.csv', delimiter=',')\n",
    "item_embeddings = genfromtxt('./data/item_embeddings.csv', delimiter=',')"
   ]
  },
  {
   "cell_type": "code",
   "execution_count": 3,
   "id": "bc502868",
   "metadata": {},
   "outputs": [],
   "source": [
    "vms = item_embeddings"
   ]
  },
  {
   "cell_type": "markdown",
   "id": "423f5e48",
   "metadata": {},
   "source": [
    "load scaler"
   ]
  },
  {
   "cell_type": "code",
   "execution_count": 4,
   "id": "6af28225",
   "metadata": {},
   "outputs": [],
   "source": [
    "scalerUser = joblib.load('scalerUser.save')\n",
    "scalerItem = joblib.load('scalerItem.save')\n",
    "scalerTarget = joblib.load('scalerTarget.save')"
   ]
  },
  {
   "cell_type": "markdown",
   "id": "3c3b25a5",
   "metadata": {},
   "source": [
    "Create dictionary for user_feature"
   ]
  },
  {
   "cell_type": "code",
   "execution_count": 5,
   "id": "71199d93",
   "metadata": {},
   "outputs": [],
   "source": [
    "user_dict = {}\n",
    "for i in range(len(user_vecs)):\n",
    "    user_dict[int(user_vecs[i][0])] = user_vecs[i]"
   ]
  },
  {
   "cell_type": "code",
   "execution_count": 6,
   "id": "1bd998dd",
   "metadata": {},
   "outputs": [
    {
     "data": {
      "text/plain": [
       "array([ 2.  , 22.  ,  4.  ,  3.95,  4.25,  0.  ,  0.  ,  4.  ,  4.12,\n",
       "        4.  ,  4.04,  0.  ,  3.  ,  4.  ,  0.  ,  3.88,  3.89])"
      ]
     },
     "execution_count": 6,
     "metadata": {},
     "output_type": "execute_result"
    }
   ],
   "source": [
    "user_dict[2]"
   ]
  },
  {
   "cell_type": "markdown",
   "id": "51ae77d9",
   "metadata": {},
   "source": [
    "# load model for local testing\n",
    "\n",
    "Below, we also launch the user embedding model through docker container"
   ]
  },
  {
   "cell_type": "code",
   "execution_count": 9,
   "id": "7de13d65",
   "metadata": {},
   "outputs": [
    {
     "name": "stderr",
     "output_type": "stream",
     "text": [
      "2023-06-29 17:29:20.894958: I tensorflow/core/platform/cpu_feature_guard.cc:151] This TensorFlow binary is optimized with oneAPI Deep Neural Network Library (oneDNN) to use the following CPU instructions in performance-critical operations:  AVX2 FMA\n",
      "To enable them in other operations, rebuild TensorFlow with the appropriate compiler flags.\n"
     ]
    },
    {
     "name": "stdout",
     "output_type": "stream",
     "text": [
      "WARNING:tensorflow:No training configuration found in save file, so the model was *not* compiled. Compile it manually.\n"
     ]
    }
   ],
   "source": [
    "# model = tf.keras.models.load_model('user_embedding_model')"
   ]
  },
  {
   "cell_type": "code",
   "execution_count": 37,
   "id": "c0e0f389",
   "metadata": {},
   "outputs": [
    {
     "data": {
      "text/plain": [
       "dict_keys([2, 3, 4, 7, 9, 10, 12, 13, 15, 16, 17, 18, 20, 21, 22, 23, 24, 25, 28, 29, 30, 34, 36, 41, 42, 45, 47, 48, 49, 50, 51, 52, 55, 60, 61, 62, 63, 64, 65, 66, 67, 68, 69, 70, 72, 73, 74, 75, 76, 77, 78, 80, 82, 83, 86, 87, 88, 89, 91, 92, 95, 97, 98, 100, 103, 104, 105, 106, 108, 110, 111, 112, 114, 116, 119, 122, 123, 124, 125, 127, 129, 131, 132, 135, 137, 138, 139, 140, 141, 143, 144, 146, 148, 152, 153, 154, 156, 158, 159, 160, 161, 165, 166, 167, 168, 169, 172, 175, 177, 178, 180, 182, 184, 185, 186, 187, 189, 190, 193, 194, 195, 196, 198, 199, 200, 203, 204, 205, 209, 210, 211, 212, 213, 215, 218, 219, 220, 221, 222, 223, 226, 227, 228, 230, 231, 232, 233, 234, 237, 238, 239, 241, 246, 247, 248, 249, 250, 251, 252, 253, 254, 256, 257, 258, 259, 260, 261, 263, 264, 271, 272, 274, 275, 278, 279, 280, 281, 282, 285, 286, 287, 288, 291, 292, 293, 295, 296, 298, 300, 301, 303, 305, 306, 307, 308, 309, 310, 311, 312, 313, 316, 317, 318, 319, 320, 322, 323, 325, 326, 327, 328, 330, 331, 332, 334, 336, 338, 339, 341, 342, 343, 344, 345, 346, 348, 351, 352, 354, 356, 357, 358, 359, 361, 362, 363, 365, 366, 367, 369, 370, 371, 375, 376, 377, 378, 380, 381, 382, 387, 388, 390, 391, 393, 396, 397, 398, 399, 400, 401, 403, 405, 406, 407, 408, 410, 413, 414, 415, 416, 417, 418, 419, 420, 421, 423, 424, 425, 426, 427, 428, 430, 432, 433, 434, 435, 438, 439, 440, 441, 443, 445, 448, 449, 452, 453, 454, 459, 460, 461, 462, 463, 464, 466, 471, 472, 473, 474, 475, 477, 478, 479, 480, 482, 483, 484, 487, 488, 489, 490, 491, 493, 495, 496, 497, 499, 500, 502, 503, 504, 505, 506, 509, 510, 511, 513, 514, 515, 516, 517, 518, 519, 520, 522, 523, 525, 526, 527, 528, 531, 533, 534, 537, 538, 539, 540, 542, 543, 545, 548, 549, 550, 551, 552, 553, 556, 557, 558, 560, 561, 562, 563, 564, 567, 568, 570, 573, 578, 580, 581, 582, 583, 585, 586, 590, 593, 594, 596, 598, 599, 600, 601, 603, 605, 606, 607, 608, 610])"
      ]
     },
     "execution_count": 37,
     "metadata": {},
     "output_type": "execute_result"
    }
   ],
   "source": [
    "user_dict.keys()"
   ]
  },
  {
   "cell_type": "markdown",
   "id": "5a38197d",
   "metadata": {},
   "source": [
    "Generate user embedding"
   ]
  },
  {
   "cell_type": "code",
   "execution_count": 38,
   "id": "e16ac118",
   "metadata": {},
   "outputs": [],
   "source": [
    "uid = 3"
   ]
  },
  {
   "cell_type": "code",
   "execution_count": 39,
   "id": "5da67edf",
   "metadata": {},
   "outputs": [],
   "source": [
    "user_vec = user_dict[uid].reshape(1,17)"
   ]
  },
  {
   "cell_type": "code",
   "execution_count": 40,
   "id": "9cb0bb48",
   "metadata": {},
   "outputs": [],
   "source": [
    "scaled_user_vec = scalerUser.transform(user_vec)\n",
    "# vu = model.predict(scaled_user_vec[:,3:])"
   ]
  },
  {
   "cell_type": "code",
   "execution_count": 41,
   "id": "b35d3e03",
   "metadata": {},
   "outputs": [],
   "source": [
    "data = json.dumps({\"instances\":scaled_user_vec[:,3:].tolist()})"
   ]
  },
  {
   "cell_type": "code",
   "execution_count": 42,
   "id": "a52312dd",
   "metadata": {},
   "outputs": [],
   "source": [
    "import requests\n",
    "import json\n",
    "headers = {\"content-type\": \"application/json\"}\n",
    "json_response = requests.post('http://localhost:8501/v1/models/user_embedding_model:predict', data=data, headers=headers)\n",
    "predictions = json.loads(json_response.text)['predictions']"
   ]
  },
  {
   "cell_type": "code",
   "execution_count": 43,
   "id": "6ec32fe3",
   "metadata": {},
   "outputs": [],
   "source": [
    "vu = np.array(predictions)"
   ]
  },
  {
   "cell_type": "code",
   "execution_count": 44,
   "id": "65406354",
   "metadata": {},
   "outputs": [
    {
     "data": {
      "text/plain": [
       "array([[-0.1435131 ,  0.15254034, -0.17324552,  0.05825283, -0.21046445,\n",
       "        -0.05286913, -0.05887726,  0.11435975,  0.08815061,  0.23393752,\n",
       "        -0.15388033,  0.03621101, -0.25165731, -0.10379627,  0.1871776 ,\n",
       "        -0.05175064,  0.29418603,  0.13672602, -0.03525276, -0.18706848,\n",
       "         0.20332037, -0.00785702, -0.23737656,  0.09011389, -0.0702479 ,\n",
       "        -0.20614502,  0.30533364, -0.16856277,  0.20556332, -0.20866966,\n",
       "        -0.12087867,  0.3780967 ]])"
      ]
     },
     "execution_count": 44,
     "metadata": {},
     "output_type": "execute_result"
    }
   ],
   "source": [
    "vu"
   ]
  },
  {
   "cell_type": "code",
   "execution_count": 45,
   "id": "d380d588",
   "metadata": {},
   "outputs": [],
   "source": [
    "y_p = np.dot(vms, vu.T)\n",
    "y_pu = scalerTarget.inverse_transform(y_p)"
   ]
  },
  {
   "cell_type": "code",
   "execution_count": 46,
   "id": "c597fd1b",
   "metadata": {},
   "outputs": [],
   "source": [
    "sorted_index = np.argsort(-y_pu,axis=0).reshape(-1).tolist()  #negate to get largest rating first"
   ]
  },
  {
   "cell_type": "code",
   "execution_count": 53,
   "id": "ae995fa5",
   "metadata": {},
   "outputs": [
    {
     "data": {
      "text/plain": [
       "array([  4054.,   4069.,   4148.,   4149.,   4153.,   4161.,   4167.,\n",
       "         4223.,   4228.,   4232.,   4238.,   4239.,   4246.,   4247.,\n",
       "         4254.,   4270.,   4299.,   4306.,   4308.,   4310.,   4340.,\n",
       "         4343.,   4344.,   4366.,   4367.,   4368.,   4369.,   4370.,\n",
       "         4386.,   4388.,   4446.,   4447.,   4448.,   4638.,   4639.,\n",
       "         4641.,   4643.,   4700.,   4701.,   4718.,   4720.,   4728.,\n",
       "         4734.,   4776.,   4816.,   4823.,   4848.,   4865.,   4873.,\n",
       "         4874.,   4876.,   4878.,   4881.,   4886.,   4887.,   4890.,\n",
       "         4896.,   4901.,   4902.,   4903.,   4958.,   4963.,   4967.,\n",
       "         4973.,   4974.,   4975.,   4979.,   4992.,   4993.,   4994.,\n",
       "         4995.,   5010.,   5013.,   5014.,   5015.,   5025.,   5026.,\n",
       "         5064.,   5065.,   5066.,   5072.,   5108.,   5110.,   5128.,\n",
       "         5135.,   5152.,   5171.,   5218.,   5219.,   5220.,   5254.,\n",
       "         5265.,   5266.,   5267.,   5283.,   5294.,   5296.,   5299.,\n",
       "         5313.,   5329.,   5349.,   5377.,   5378.,   5380.,   5388.,\n",
       "         5400.,   5418.,   5419.,   5444.,   5445.,   5449.,   5459.,\n",
       "         5463.,   5464.,   5481.,   5502.,   5505.,   5507.,   5528.,\n",
       "         5574.,   5577.,   5608.,   5618.,   5620.,   5621.,   5630.,\n",
       "         5669.,   5673.,   5679.,   5785.,   5791.,   5810.,   5812.,\n",
       "         5816.,   5872.,   5878.,   5881.,   5902.,   5903.,   5943.,\n",
       "         5944.,   5945.,   5952.,   5954.,   5956.,   5957.,   5989.,\n",
       "         5991.,   5992.,   5995.,   6003.,   6016.,   6058.,   6059.,\n",
       "         6155.,   6156.,   6157.,   6188.,   6218.,   6281.,   6283.,\n",
       "         6287.,   6294.,   6296.,   6297.,   6323.,   6331.,   6333.,\n",
       "         6365.,   6367.,   6373.,   6377.,   6378.,   6383.,   6385.,\n",
       "         6482.,   6502.,   6503.,   6534.,   6535.,   6537.,   6539.,\n",
       "         6541.,   6548.,   6550.,   6552.,   6564.,   6565.,   6586.,\n",
       "         6593.,   6595.,   6618.,   6620.,   6708.,   6709.,   6711.,\n",
       "         6753.,   6754.,   6755.,   6764.,   6773.,   6863.,   6867.,\n",
       "         6870.,   6873.,   6874.,   6879.,   6888.,   6934.,   6936.,\n",
       "         6942.,   6947.,   6953.,   6957.,   6958.,   7090.,   7137.,\n",
       "         7143.,   7147.,   7149.,   7150.,   7151.,   7153.,   7154.,\n",
       "         7156.,   7160.,   7162.,   7163.,   7173.,   7254.,   7263.,\n",
       "         7265.,   7293.,   7317.,   7323.,   7324.,   7325.,   7347.,\n",
       "         7360.,   7361.,   7367.,   7371.,   7373.,   7438.,   7439.,\n",
       "         7444.,   7445.,   7451.,   7454.,   7458.,   8014.,   8360.,\n",
       "         8361.,   8366.,   8368.,   8370.,   8371.,   8373.,   8376.,\n",
       "         8464.,   8528.,   8529.,   8533.,   8622.,   8636.,   8638.,\n",
       "         8640.,   8641.,   8644.,   8665.,   8781.,   8783.,   8784.,\n",
       "         8798.,   8807.,   8810.,   8861.,   8865.,   8873.,   8874.,\n",
       "         8907.,   8910.,   8914.,   8917.,   8947.,   8949.,   8950.,\n",
       "         8957.,   8958.,   8961.,   8965.,   8969.,   8970.,   8972.,\n",
       "         8977.,   8981.,   8983.,   8984.,   8985.,  27611.,  27660.,\n",
       "        27706.,  27773.,  27801.,  27808.,  27815.,  27831.,  27846.,\n",
       "        27904.,  30707.,  30749.,  30793.,  30810.,  30812.,  30816.,\n",
       "        30822.,  30825.,  31221.,  31410.,  31433.,  31658.,  31685.,\n",
       "        31696.,  31878.,  32029.,  32031.,  32587.,  33004.,  33162.,\n",
       "        33166.,  33493.,  33615.,  33660.,  33679.,  33794.,  33836.,\n",
       "        34048.,  34072.,  34150.,  34162.,  34319.,  34405.,  34437.,\n",
       "        34520.,  35836.,  36401.,  36517.,  36519.,  36529.,  36708.,\n",
       "        37380.,  37384.,  37386.,  37727.,  37729.,  37733.,  37741.,\n",
       "        37830.,  38038.,  38061.,  39183.,  39292.,  39446.,  40278.,\n",
       "        40583.,  40629.,  40732.,  40815.,  40819.,  40826.,  41285.,\n",
       "        41566.,  41569.,  41997.,  42011.,  42723.,  42738.,  43928.,\n",
       "        44022.,  44191.,  44195.,  44199.,  44555.,  44665.,  44761.,\n",
       "        44840.,  44972.,  44974.,  45081.,  45186.,  45431.,  45447.,\n",
       "        45499.,  45501.,  45517.,  45666.,  45668.,  45672.,  45720.,\n",
       "        45722.,  45728.,  45880.,  45950.,  46335.,  46530.,  46578.,\n",
       "        46723.,  46965.,  46970.,  46972.,  46976.,  47044.,  47099.,\n",
       "        47200.,  47518.,  47610.,  47629.,  47997.,  48043.,  48082.,\n",
       "        48304.,  48385.,  48394.,  48516.,  48738.,  48774.,  48780.,\n",
       "        48783.,  48877.,  49272.,  49274.,  49278.,  49286.,  49530.,\n",
       "        49649.,  49651.,  50068.,  50794.,  50872.,  51077.,  51084.,\n",
       "        51086.,  51255.,  51412.,  51540.,  51662.,  51935.,  52245.,\n",
       "        52281.,  52287.,  52328.,  52458.,  52604.,  52722.,  52973.,\n",
       "        52975.,  53000.,  53121.,  53125.,  53322.,  53464.,  53519.,\n",
       "        53894.,  53953.,  53972.,  53993.,  53996.,  54001.,  54004.,\n",
       "        54190.,  54259.,  54272.,  54286.,  54503.,  54881.,  54995.,\n",
       "        54997.,  54999.,  55052.,  55118.,  55232.,  55247.,  55269.,\n",
       "        55276.,  55282.,  55290.,  55363.,  55442.,  55721.,  55765.,\n",
       "        55768.,  55820.,  55830.,  56145.,  56152.,  56171.,  56174.,\n",
       "        56251.,  56367.,  56587.,  56757.,  56775.,  56782.,  56941.,\n",
       "        56949.,  57368.,  57504.,  57640.,  57669.,  58025.,  58047.,\n",
       "        58156.,  58293.,  58295.,  58559.,  58803.,  58998.,  59022.,\n",
       "        59258.,  59315.,  59369.,  59387.,  59501.,  59615.,  59725.,\n",
       "        59784.,  59900.,  60040.,  60069.,  60072.,  60074.,  60126.,\n",
       "        60397.,  60684.,  60756.,  60950.,  61024.,  61132.,  61240.,\n",
       "        61323.,  62155.,  62374.,  62849.,  62999.,  63082.,  63113.,\n",
       "        63131.,  63859.,  63876.,  63992.,  64614.,  64716.,  64839.,\n",
       "        64957.,  64969.,  64983.,  65088.,  65230.,  65261.,  65514.,\n",
       "        66097.,  66203.,  66934.,  67087.,  67255.,  67734.,  67923.,\n",
       "        68135.,  68157.,  68237.,  68319.,  68358.,  68554.,  68791.,\n",
       "        68793.,  68954.,  69122.,  69406.,  69481.,  69526.,  69644.,\n",
       "        69757.,  69784.,  69844.,  69951.,  70183.,  70286.,  70293.,\n",
       "        71057.,  71264.,  71464.,  71530.,  71535.,  71745.,  71899.,\n",
       "        72011.,  72226.,  72378.,  72641.,  72737.,  72998.,  73017.,\n",
       "        73321.,  74458.,  74789.,  76077.,  76093.,  76175.,  76251.,\n",
       "        76293.,  77455.,  77561.,  78105.,  78209.,  78469.,  78499.,\n",
       "        78772.,  79057.,  79091.,  79132.,  79134.,  79139.,  79293.,\n",
       "        79592.,  79695.,  79702.,  80219.,  80463.,  80489.,  80549.,\n",
       "        80906.,  81229.,  81537.,  81562.,  81564.,  81591.,  81834.,\n",
       "        81845.,  81847.,  81932.,  82461.,  83134.,  83349.,  84152.,\n",
       "        84374.,  84392.,  84772.,  84944.,  84954.,  85414.,  85510.,\n",
       "        86190.,  86332.,  86644.,  86833.,  86880.,  86882.,  86911.,\n",
       "        87222.,  87232.,  87306.,  87430.,  87520.,  87869.,  88125.,\n",
       "        88129.,  88140.,  88163.,  88405.,  88744.,  88785.,  88810.,\n",
       "        89470.,  89492.,  89745.,  89774.,  89864.,  89904.,  90405.,\n",
       "        90746.,  90866.,  91077.,  91094.,  91485.,  91500.,  91529.,\n",
       "        91535.,  91542.,  91630.,  91658.,  92259.,  92535.,  93326.,\n",
       "        93363.,  93510.,  93840.,  94677.,  94777.,  94864.,  94959.,\n",
       "        95167.,  95441.,  95510.,  96079.,  96588.,  96610.,  96737.,\n",
       "        96821.,  96829.,  97225.,  97304.,  97306.,  97752.,  97913.,\n",
       "        97921.,  97938.,  98243.,  98809.,  98961.,  99007.,  99112.,\n",
       "        99114., 101864., 102123., 102125., 102407., 102445., 102481.,\n",
       "       102903., 103042., 103141., 103228., 103249., 103253., 103335.,\n",
       "       103341., 103772., 104211., 104241., 104374., 104841., 104879.,\n",
       "       104913., 105504., 105844., 106002., 106072., 106100., 106487.,\n",
       "       106489., 106696., 106782., 106916., 106918., 106920., 107348.,\n",
       "       107406., 108190., 108932., 109374., 109487., 110102., 110553.,\n",
       "       111113., 111360., 111362., 111364., 111659., 111743., 111759.,\n",
       "       111781., 112138., 112175., 112183., 112290., 112552., 112556.,\n",
       "       112623., 112852., 114180., 114662., 114935., 115149., 115210.,\n",
       "       115569., 115617., 115713., 116797., 116823., 116897., 117176.,\n",
       "       117529., 117590., 118696., 119141., 119145., 120466., 122882.,\n",
       "       122886., 122892., 122900., 122904., 122906., 122912., 122916.,\n",
       "       122918., 122920., 122922., 122924., 122926., 129354., 134130.,\n",
       "       134368., 134393., 134853., 135133., 135143., 135536., 135569.,\n",
       "       135887., 136020., 136864., 137857., 138036., 139385., 139644.,\n",
       "       140110., 142488., 143355., 148626., 150548., 152077., 152081.,\n",
       "       157296., 158238., 159093., 164179., 166461., 166528., 166643.,\n",
       "       168250., 168252., 174055., 176371., 177765., 179819., 187593.])"
      ]
     },
     "execution_count": 53,
     "metadata": {},
     "output_type": "execute_result"
    }
   ],
   "source": [
    "item_vecs[:,0]"
   ]
  },
  {
   "cell_type": "markdown",
   "id": "7fe5efd3",
   "metadata": {},
   "source": [
    "Return the top 10 movie IDs"
   ]
  },
  {
   "cell_type": "code",
   "execution_count": 47,
   "id": "37f1a184",
   "metadata": {},
   "outputs": [
    {
     "data": {
      "text/plain": [
       "array([ 6283, 60684, 27801,  6874, 32587,  6773,  8370, 69481,  5072,\n",
       "        7438])"
      ]
     },
     "execution_count": 47,
     "metadata": {},
     "output_type": "execute_result"
    }
   ],
   "source": [
    "item_vecs[sorted_index[:10],0].astype(int)"
   ]
  },
  {
   "cell_type": "code",
   "execution_count": 7,
   "id": "3ef4c30b",
   "metadata": {},
   "outputs": [],
   "source": [
    "def retrieve(uid):\n",
    "    #compute user embedding\n",
    "    user_vec = user_dict[uid].reshape(1,17)\n",
    "    scaled_user_vec = scalerUser.transform(user_vec)\n",
    "    vu = model.predict(scaled_user_vec[:,3:])\n",
    "    \n",
    "    #compute dot product between user embedding and item embedding\n",
    "    y_p = np.dot(vms, vu.T)\n",
    "    y_pu = scalerTarget.inverse_transform(y_p)\n",
    "    \n",
    "    #Sort the result\n",
    "    sorted_index = np.argsort(-y_pu,axis=0).reshape(-1).tolist()  #negate to get largest rating first\n",
    "    \n",
    "    #return the top 10 movies\n",
    "    result = item_vecs[sorted_index[:10],0].astype(int)\n",
    "    \n",
    "    return result\n",
    "    "
   ]
  },
  {
   "cell_type": "markdown",
   "id": "f3f526cd",
   "metadata": {},
   "source": [
    "deploy a fastapi"
   ]
  },
  {
   "cell_type": "code",
   "execution_count": 8,
   "id": "f040c289",
   "metadata": {},
   "outputs": [],
   "source": [
    "import os\n",
    "import io\n",
    "import uvicorn\n",
    "import numpy as np\n",
    "import json\n",
    "import nest_asyncio\n",
    "from enum import Enum\n",
    "from fastapi import FastAPI, UploadFile, File, HTTPException\n",
    "from fastapi.responses import StreamingResponse"
   ]
  },
  {
   "cell_type": "code",
   "execution_count": 9,
   "id": "0c1e36f6",
   "metadata": {},
   "outputs": [],
   "source": [
    "from pydantic import BaseModel"
   ]
  },
  {
   "cell_type": "code",
   "execution_count": 10,
   "id": "f462e64d",
   "metadata": {},
   "outputs": [],
   "source": [
    "app = FastAPI(title='Deploying a ML Model with FastAPI')"
   ]
  },
  {
   "cell_type": "code",
   "execution_count": 11,
   "id": "588c246a",
   "metadata": {},
   "outputs": [],
   "source": [
    "class User(BaseModel):\n",
    "    uid: int"
   ]
  },
  {
   "cell_type": "code",
   "execution_count": 16,
   "id": "94ad9a31",
   "metadata": {},
   "outputs": [],
   "source": [
    "@app.get(\"/\")\n",
    "def home():\n",
    "    return \"Congratulations! Your API is working as expected. Now head over to http://localhost:8000/docs.\"\n",
    "\n",
    "@app.post(\"/predict\") \n",
    "def prediction(user: User):\n",
    "\n",
    "    payload = user.uid\n",
    "    print('payload is:',payload)\n",
    "    response = retrieve(payload).tolist()\n",
    "    print(\"response is:\", response)\n",
    "    \n",
    "    return {\"Recommended\":response}"
   ]
  },
  {
   "cell_type": "code",
   "execution_count": null,
   "id": "6e07a245",
   "metadata": {},
   "outputs": [
    {
     "name": "stderr",
     "output_type": "stream",
     "text": [
      "INFO:     Started server process [79761]\n",
      "INFO:     Waiting for application startup.\n",
      "INFO:     Application startup complete.\n",
      "INFO:     Uvicorn running on http://127.0.0.1:8000 (Press CTRL+C to quit)\n"
     ]
    },
    {
     "name": "stdout",
     "output_type": "stream",
     "text": [
      "INFO:     127.0.0.1:51462 - \"GET /docs HTTP/1.1\" 200 OK\n",
      "INFO:     127.0.0.1:51462 - \"GET /openapi.json HTTP/1.1\" 200 OK\n",
      "payload is: 2\n",
      "response is: [150548, 114935, 105504, 80906, 115149, 81562, 27846, 122920, 104841, 96610]\n",
      "INFO:     127.0.0.1:51464 - \"POST /predict HTTP/1.1\" 200 OK\n"
     ]
    }
   ],
   "source": [
    "# Allows the server to be run in this interactive environment\n",
    "nest_asyncio.apply()\n",
    "\n",
    "# Host depends on the setup you selected (docker or virtual env)\n",
    "host = \"0.0.0.0\" if os.getenv(\"DOCKER-SETUP\") else \"127.0.0.1\"\n",
    "\n",
    "# Spin up the server!    \n",
    "uvicorn.run(app, host=host, port=8000)"
   ]
  },
  {
   "cell_type": "code",
   "execution_count": null,
   "id": "aebea33b",
   "metadata": {},
   "outputs": [],
   "source": []
  },
  {
   "cell_type": "code",
   "execution_count": null,
   "id": "dc7d71f5",
   "metadata": {},
   "outputs": [],
   "source": []
  }
 ],
 "metadata": {
  "kernelspec": {
   "display_name": "Python 3 (ipykernel)",
   "language": "python",
   "name": "python3"
  },
  "language_info": {
   "codemirror_mode": {
    "name": "ipython",
    "version": 3
   },
   "file_extension": ".py",
   "mimetype": "text/x-python",
   "name": "python",
   "nbconvert_exporter": "python",
   "pygments_lexer": "ipython3",
   "version": "3.7.7"
  }
 },
 "nbformat": 4,
 "nbformat_minor": 5
}
